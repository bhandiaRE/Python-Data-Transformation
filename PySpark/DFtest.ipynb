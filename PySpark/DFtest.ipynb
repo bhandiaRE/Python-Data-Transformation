{
  "cells": [
    {
      "cell_type": "markdown",
      "metadata": {
        "id": "view-in-github",
        "colab_type": "text"
      },
      "source": [
        "<a href=\"https://colab.research.google.com/github/bhandiaRE/Python-Data-Transformation/blob/main/PySpark/DFtest.ipynb\" target=\"_parent\"><img src=\"https://colab.research.google.com/assets/colab-badge.svg\" alt=\"Open In Colab\"/></a>"
      ]
    },
    {
      "cell_type": "code",
      "source": [
        "from google.colab import drive\n",
        "drive.mount('/content/drive')"
      ],
      "metadata": {
        "id": "AV3eZYyTAYAh",
        "outputId": "2ee0dcfc-397a-4ebd-d6f7-5dea44f75cbb",
        "colab": {
          "base_uri": "https://localhost:8080/"
        }
      },
      "execution_count": 2,
      "outputs": [
        {
          "output_type": "stream",
          "name": "stdout",
          "text": [
            "Mounted at /content/drive\n"
          ]
        }
      ]
    },
    {
      "cell_type": "code",
      "source": [
        "!pip3 install pyspark"
      ],
      "metadata": {
        "id": "AHXfS0MvV1yw",
        "outputId": "ec639c8d-1c87-4cb3-998b-3f84f0c18ddf",
        "colab": {
          "base_uri": "https://localhost:8080/"
        }
      },
      "execution_count": 3,
      "outputs": [
        {
          "output_type": "stream",
          "name": "stdout",
          "text": [
            "Looking in indexes: https://pypi.org/simple, https://us-python.pkg.dev/colab-wheels/public/simple/\n",
            "Collecting pyspark\n",
            "  Downloading pyspark-3.3.1.tar.gz (281.4 MB)\n",
            "\u001b[2K     \u001b[90m━━━━━━━━━━━━━━━━━━━━━━━━━━━━━━━━━━━━━━━\u001b[0m \u001b[32m281.4/281.4 MB\u001b[0m \u001b[31m4.8 MB/s\u001b[0m eta \u001b[36m0:00:00\u001b[0m\n",
            "\u001b[?25h  Preparing metadata (setup.py) ... \u001b[?25l\u001b[?25hdone\n",
            "Collecting py4j==0.10.9.5\n",
            "  Downloading py4j-0.10.9.5-py2.py3-none-any.whl (199 kB)\n",
            "\u001b[2K     \u001b[90m━━━━━━━━━━━━━━━━━━━━━━━━━━━━━━━━━━━━━━\u001b[0m \u001b[32m199.7/199.7 KB\u001b[0m \u001b[31m24.3 MB/s\u001b[0m eta \u001b[36m0:00:00\u001b[0m\n",
            "\u001b[?25hBuilding wheels for collected packages: pyspark\n",
            "  Building wheel for pyspark (setup.py) ... \u001b[?25l\u001b[?25hdone\n",
            "  Created wheel for pyspark: filename=pyspark-3.3.1-py2.py3-none-any.whl size=281845512 sha256=ab7669d3e83dd0e4753b6986ae18779969441f2af75438401d92d81332ebcf9e\n",
            "  Stored in directory: /root/.cache/pip/wheels/43/dc/11/ec201cd671da62fa9c5cc77078235e40722170ceba231d7598\n",
            "Successfully built pyspark\n",
            "Installing collected packages: py4j, pyspark\n",
            "Successfully installed py4j-0.10.9.5 pyspark-3.3.1\n"
          ]
        }
      ]
    },
    {
      "cell_type": "code",
      "source": [
        "\n",
        "from pyspark.sql import SparkSession\n",
        "spark = SparkSession.builder.master('local[*]').getOrCreate()\n",
        "spark"
      ],
      "metadata": {
        "id": "A0hgAJ0KcNI7",
        "outputId": "46849952-c927-4797-d815-fe50ecde0236",
        "colab": {
          "base_uri": "https://localhost:8080/",
          "height": 219
        }
      },
      "execution_count": 4,
      "outputs": [
        {
          "output_type": "execute_result",
          "data": {
            "text/plain": [
              "<pyspark.sql.session.SparkSession at 0x7f9b48789d90>"
            ],
            "text/html": [
              "\n",
              "            <div>\n",
              "                <p><b>SparkSession - in-memory</b></p>\n",
              "                \n",
              "        <div>\n",
              "            <p><b>SparkContext</b></p>\n",
              "\n",
              "            <p><a href=\"http://5faeaed9726a:4040\">Spark UI</a></p>\n",
              "\n",
              "            <dl>\n",
              "              <dt>Version</dt>\n",
              "                <dd><code>v3.3.1</code></dd>\n",
              "              <dt>Master</dt>\n",
              "                <dd><code>local[*]</code></dd>\n",
              "              <dt>AppName</dt>\n",
              "                <dd><code>pyspark-shell</code></dd>\n",
              "            </dl>\n",
              "        </div>\n",
              "        \n",
              "            </div>\n",
              "        "
            ]
          },
          "metadata": {},
          "execution_count": 4
        }
      ]
    },
    {
      "cell_type": "code",
      "source": [
        "df = spark.read.text(\"/content/drive/MyDrive/Colab Notebooks/kddcup.data.gz\")\n",
        "df.show()"
      ],
      "metadata": {
        "id": "FUPnXHMocWKj",
        "outputId": "3ca2525a-d4ce-4522-ff92-246a60ab70fc",
        "colab": {
          "base_uri": "https://localhost:8080/"
        }
      },
      "execution_count": 41,
      "outputs": [
        {
          "output_type": "stream",
          "name": "stdout",
          "text": [
            "+--------------------+\n",
            "|               value|\n",
            "+--------------------+\n",
            "|0,tcp,http,SF,215...|\n",
            "|0,tcp,http,SF,162...|\n",
            "|0,tcp,http,SF,236...|\n",
            "|0,tcp,http,SF,233...|\n",
            "|0,tcp,http,SF,239...|\n",
            "|0,tcp,http,SF,238...|\n",
            "|0,tcp,http,SF,235...|\n",
            "|0,tcp,http,SF,234...|\n",
            "|0,tcp,http,SF,239...|\n",
            "|0,tcp,http,SF,181...|\n",
            "|0,tcp,http,SF,184...|\n",
            "|0,tcp,http,SF,185...|\n",
            "|0,tcp,http,SF,239...|\n",
            "|0,tcp,http,SF,181...|\n",
            "|0,tcp,http,SF,236...|\n",
            "|0,tcp,http,SF,233...|\n",
            "|0,tcp,http,SF,238...|\n",
            "|0,tcp,http,SF,235...|\n",
            "|0,tcp,http,SF,234...|\n",
            "|0,tcp,http,SF,239...|\n",
            "+--------------------+\n",
            "only showing top 20 rows\n",
            "\n"
          ]
        }
      ]
    },
    {
      "cell_type": "markdown",
      "source": [
        "**Split the data and load**"
      ],
      "metadata": {
        "id": "mzUNl9sJmgkK"
      }
    },
    {
      "cell_type": "code",
      "source": [
        "from pyspark.sql.functions import *\n",
        "\n",
        "split_data = split(df['value'], ',')\n",
        "\n",
        "df = df.withColumn('Protocal', split_data.getItem(1))\\\n",
        "        .withColumn('Service', split_data.getItem(2))\\\n",
        "        .withColumn('Flag', split_data.getItem(3))\\\n",
        "        .withColumn('src_bytes', split_data.getItem(4))\\\n",
        "        .withColumn('dst_bytes', split_data.getItem(5))\\\n",
        "        .withColumn('urgent', split_data.getItem(8))\\\n",
        "        .withColumn('faild_logs', split_data.getItem(10))\\\n",
        "        .withColumn('root_shell', split_data.getItem(13))\\\n",
        "        .withColumn('guest_login', split_data.getItem(21))\\\n",
        "        .withColumn('label', split_data.getItem(41))\\\n",
        "        .drop('value')\n",
        "\n",
        "df.show()"
      ],
      "metadata": {
        "id": "kmHt8f3mm0QP",
        "outputId": "68b49b4b-a676-49ae-d350-f03274fddebd",
        "colab": {
          "base_uri": "https://localhost:8080/"
        }
      },
      "execution_count": 42,
      "outputs": [
        {
          "output_type": "stream",
          "name": "stdout",
          "text": [
            "+--------+-------+----+---------+---------+------+----------+----------+-----------+-------+\n",
            "|Protocal|Service|Flag|src_bytes|dst_bytes|urgent|faild_logs|root_shell|guest_login|  label|\n",
            "+--------+-------+----+---------+---------+------+----------+----------+-----------+-------+\n",
            "|     tcp|   http|  SF|      215|    45076|     0|         0|         0|          0|normal.|\n",
            "|     tcp|   http|  SF|      162|     4528|     0|         0|         0|          0|normal.|\n",
            "|     tcp|   http|  SF|      236|     1228|     0|         0|         0|          0|normal.|\n",
            "|     tcp|   http|  SF|      233|     2032|     0|         0|         0|          0|normal.|\n",
            "|     tcp|   http|  SF|      239|      486|     0|         0|         0|          0|normal.|\n",
            "|     tcp|   http|  SF|      238|     1282|     0|         0|         0|          0|normal.|\n",
            "|     tcp|   http|  SF|      235|     1337|     0|         0|         0|          0|normal.|\n",
            "|     tcp|   http|  SF|      234|     1364|     0|         0|         0|          0|normal.|\n",
            "|     tcp|   http|  SF|      239|     1295|     0|         0|         0|          0|normal.|\n",
            "|     tcp|   http|  SF|      181|     5450|     0|         0|         0|          0|normal.|\n",
            "|     tcp|   http|  SF|      184|      124|     0|         0|         0|          0|normal.|\n",
            "|     tcp|   http|  SF|      185|     9020|     0|         0|         0|          0|normal.|\n",
            "|     tcp|   http|  SF|      239|     1295|     0|         0|         0|          0|normal.|\n",
            "|     tcp|   http|  SF|      181|     5450|     0|         0|         0|          0|normal.|\n",
            "|     tcp|   http|  SF|      236|     1228|     0|         0|         0|          0|normal.|\n",
            "|     tcp|   http|  SF|      233|     2032|     0|         0|         0|          0|normal.|\n",
            "|     tcp|   http|  SF|      238|     1282|     0|         0|         0|          0|normal.|\n",
            "|     tcp|   http|  SF|      235|     1337|     0|         0|         0|          0|normal.|\n",
            "|     tcp|   http|  SF|      234|     1364|     0|         0|         0|          0|normal.|\n",
            "|     tcp|   http|  SF|      239|      486|     0|         0|         0|          0|normal.|\n",
            "+--------+-------+----+---------+---------+------+----------+----------+-----------+-------+\n",
            "only showing top 20 rows\n",
            "\n"
          ]
        }
      ]
    }
  ],
  "metadata": {
    "colab": {
      "name": "Welcome To Colaboratory",
      "provenance": [],
      "include_colab_link": true
    },
    "kernelspec": {
      "display_name": "Python 3",
      "name": "python3"
    }
  },
  "nbformat": 4,
  "nbformat_minor": 0
}