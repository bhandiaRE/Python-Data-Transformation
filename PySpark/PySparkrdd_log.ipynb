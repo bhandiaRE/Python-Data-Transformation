{
  "cells": [
    {
      "cell_type": "markdown",
      "metadata": {
        "id": "view-in-github",
        "colab_type": "text"
      },
      "source": [
        "<a href=\"https://colab.research.google.com/github/bhandiaRE/Python-Web-Scraping-/blob/main/PySpark/PySpark_log.ipynb\" target=\"_parent\"><img src=\"https://colab.research.google.com/assets/colab-badge.svg\" alt=\"Open In Colab\"/></a>"
      ]
    },
    {
      "cell_type": "code",
      "source": [
        "!pip3 install pyspark"
      ],
      "metadata": {
        "colab": {
          "base_uri": "https://localhost:8080/"
        },
        "id": "rKYWekMEbVuo",
        "outputId": "299a779b-7210-435a-eefd-8b0c4f309dd6"
      },
      "execution_count": 1,
      "outputs": [
        {
          "output_type": "stream",
          "name": "stdout",
          "text": [
            "Looking in indexes: https://pypi.org/simple, https://us-python.pkg.dev/colab-wheels/public/simple/\n",
            "Collecting pyspark\n",
            "  Downloading pyspark-3.3.1.tar.gz (281.4 MB)\n",
            "\u001b[K     |████████████████████████████████| 281.4 MB 53 kB/s \n",
            "\u001b[?25hCollecting py4j==0.10.9.5\n",
            "  Downloading py4j-0.10.9.5-py2.py3-none-any.whl (199 kB)\n",
            "\u001b[K     |████████████████████████████████| 199 kB 74.2 MB/s \n",
            "\u001b[?25hBuilding wheels for collected packages: pyspark\n",
            "  Building wheel for pyspark (setup.py) ... \u001b[?25l\u001b[?25hdone\n",
            "  Created wheel for pyspark: filename=pyspark-3.3.1-py2.py3-none-any.whl size=281845512 sha256=6b7a5cf77d5df645c35c361be0b5deaa01b2f37e159d7172429632d6eeb7d437\n",
            "  Stored in directory: /root/.cache/pip/wheels/43/dc/11/ec201cd671da62fa9c5cc77078235e40722170ceba231d7598\n",
            "Successfully built pyspark\n",
            "Installing collected packages: py4j, pyspark\n",
            "Successfully installed py4j-0.10.9.5 pyspark-3.3.1\n"
          ]
        }
      ]
    },
    {
      "cell_type": "code",
      "source": [
        "from pyspark import SparkContext, SparkConf\n",
        "\n",
        "conf = SparkConf().setAppName(\"Pyspark_Log\").setMaster(\"local[*]\")\n",
        "sc = SparkContext(conf=conf)\n",
        "print(sc)\n",
        "print(\"ready to go\")"
      ],
      "metadata": {
        "colab": {
          "base_uri": "https://localhost:8080/"
        },
        "id": "CUGFUzqvcDUK",
        "outputId": "85fa24c6-9389-41c8-aa77-2e9e697daf2f"
      },
      "execution_count": 2,
      "outputs": [
        {
          "output_type": "stream",
          "name": "stdout",
          "text": [
            "<SparkContext master=local[*] appName=Pyspark_Log>\n",
            "ready to go\n"
          ]
        }
      ]
    },
    {
      "cell_type": "code",
      "source": [
        "from google.colab import drive\n",
        "drive.mount('/content/drive')"
      ],
      "metadata": {
        "colab": {
          "base_uri": "https://localhost:8080/"
        },
        "id": "_FPwkIl8cyAm",
        "outputId": "c272f61b-63f8-4a4e-cc79-573a0cca1d3e"
      },
      "execution_count": 3,
      "outputs": [
        {
          "output_type": "stream",
          "name": "stdout",
          "text": [
            "Mounted at /content/drive\n"
          ]
        }
      ]
    },
    {
      "cell_type": "code",
      "source": [
        "rdd = sc.textFile(\"/content/drive/MyDrive/log.txt\")"
      ],
      "metadata": {
        "id": "qoF_S0gKfd9R"
      },
      "execution_count": 5,
      "outputs": []
    },
    {
      "cell_type": "code",
      "source": [
        "rdd = rdd.repartition(4)\n",
        "print(sc.defaultParallelism)\n",
        "print(rdd.getNumPartitions())"
      ],
      "metadata": {
        "colab": {
          "base_uri": "https://localhost:8080/"
        },
        "id": "254CmLTJgwky",
        "outputId": "193126e7-4f15-483c-bb53-c7cf7358f7f3"
      },
      "execution_count": 6,
      "outputs": [
        {
          "output_type": "stream",
          "name": "stdout",
          "text": [
            "2\n",
            "4\n"
          ]
        }
      ]
    },
    {
      "cell_type": "code",
      "source": [
        "print(\"The number of records is\",rdd.count())\n",
        "rdd.takeSample(False, 20, 1234)"
      ],
      "metadata": {
        "colab": {
          "base_uri": "https://localhost:8080/"
        },
        "id": "Kn9j3D6KhZHQ",
        "outputId": "624f5946-7d76-474f-b329-495bd0e0d508"
      },
      "execution_count": 36,
      "outputs": [
        {
          "output_type": "stream",
          "name": "stdout",
          "text": [
            "The number of records is 62\n"
          ]
        },
        {
          "output_type": "execute_result",
          "data": {
            "text/plain": [
              "['03/22 08:51:02 INFO   :..reg_process: registering process with the system',\n",
              " '03/22 08:51:06 INFO   :.....mailslot_create: creating mailslot for RSVP via UDP',\n",
              " ' 03 ',\n",
              " '03/22 08:51:06 TRACE  :..entity_initialize: interface 9.37.65.139, entity for rsvp allocated and ',\n",
              " '03/22 08:51:06 INFO   :...mailbox_register: mailbox allocated for timer',\n",
              " '03/22 08:51:06 TRACE  :..entity_initialize: interface 129.1.1.1, entity for rsvp allocated and initialized',\n",
              " '03/22 08:51:06 INFO   :....mailbox_register: mailbox allocated for rsvp-udp',\n",
              " '03/22 08:51:06 INFO   :.....mailslot_create: creating mailslot for RSVP via UDP',\n",
              " '03/22 08:51:06 INFO   :....mailbox_register: mailbox allocated for rsvp-udp',\n",
              " '03/22 08:51:06 INFO   :...read_physical_netif: index #6, interface LOOPBACK has address 127.0.0.1, ifidx 0',\n",
              " '03/22 08:51:06 TRACE  :...read_physical_netif: Home list entries returned = 7',\n",
              " '03/22 08:51:06 INFO   :...read_physical_netif: index #0, interface VLINK1 has address 129.1.1.1, ifidx 0',\n",
              " '03/22 08:51:06 TRACE  :..entity_initialize: interface 9.67.101.1, entity for rsvp allocated and initialized',\n",
              " ' 05 ',\n",
              " '03/22 08:51:06 INFO   :.....mailslot_create: creating mailslot for RSVP',\n",
              " '03/22 08:51:06 INFO   :.....mailslot_create: creating mailslot for RSVP',\n",
              " ' 01 ',\n",
              " '03/22 08:51:06 INFO   :...read_physical_netif: index #4, interface CTCD0 has address 9.67.116.98, ifidx 4',\n",
              " '03/22 08:51:01 INFO   :.main: *************** RSVP Agent started ***************',\n",
              " '03/22 08:51:06 INFO   :.....mailslot_create: creating mailslot for RSVP via UDP']"
            ]
          },
          "metadata": {},
          "execution_count": 36
        }
      ]
    },
    {
      "cell_type": "markdown",
      "source": [
        "**Lines that have UDP**"
      ],
      "metadata": {
        "id": "FGJniqKrjur1"
      }
    },
    {
      "cell_type": "code",
      "source": [
        "import re\n",
        "def collect_word(line):\n",
        "  return re.compile('\\w+').findall(line.lower())\n",
        "\n",
        "print(collect_word('we are TESTING !  ? oK?'))"
      ],
      "metadata": {
        "colab": {
          "base_uri": "https://localhost:8080/"
        },
        "id": "4oyXbBDTiWJ6",
        "outputId": "eb52ba3f-95b8-4d10-9c30-737842f78939"
      },
      "execution_count": 34,
      "outputs": [
        {
          "output_type": "stream",
          "name": "stdout",
          "text": [
            "['we', 'are', 'testing', 'ok']\n"
          ]
        }
      ]
    },
    {
      "cell_type": "code",
      "source": [
        "rdd_UDP = rdd.filter(lambda line: \"warning\" in collect_word(line))\n",
        "\n",
        "rdd_UDP.collect()"
      ],
      "metadata": {
        "colab": {
          "base_uri": "https://localhost:8080/"
        },
        "id": "gjAM2SVMpQBR",
        "outputId": "3e2c866d-ed05-4b3e-9d7e-110989960410"
      },
      "execution_count": 35,
      "outputs": [
        {
          "output_type": "execute_result",
          "data": {
            "text/plain": [
              "['03/22 08:51:06 WARNING:.....mailslot_create: setsockopt(MCAST_ADD) failed - EDC8116I Address not available.',\n",
              " '03/22 08:51:06 WARNING:.....mailslot_create: setsockopt(MCAST_ADD) failed - EDC8116I Address not available.',\n",
              " '03/22 08:51:06 WARNING:.....mailslot_create: setsockopt(MCAST_ADD) failed - EDC8116I Address not available.',\n",
              " '03/22 08:51:06 WARNING:.....mailslot_create: setsockopt(MCAST_ADD) failed - EDC8116I Address not available.']"
            ]
          },
          "metadata": {},
          "execution_count": 35
        }
      ]
    },
    {
      "cell_type": "markdown",
      "source": [
        "**Get lines with IP Address and INFO**"
      ],
      "metadata": {
        "id": "tssGvuAqAPsq"
      }
    },
    {
      "cell_type": "code",
      "source": [
        "def get_IP(line):\n",
        "  return re.findall(r'[0-9]+.[0-9]+.[0-9]+.[0-9]+.', line)\n",
        "\n",
        "get_IP('read_physical_netif: index #6, interface LOOPBACK has address 127.0.0.1, ifidx 0')"
      ],
      "metadata": {
        "colab": {
          "base_uri": "https://localhost:8080/"
        },
        "id": "4T8P7Rh3AmlA",
        "outputId": "392b9271-83a3-4abe-93ed-d4daf86d2190"
      },
      "execution_count": 10,
      "outputs": [
        {
          "output_type": "execute_result",
          "data": {
            "text/plain": [
              "['127.0.0.1,']"
            ]
          },
          "metadata": {},
          "execution_count": 10
        }
      ]
    },
    {
      "cell_type": "code",
      "source": [
        "#rdd.filter(lambda line: line.split(',')[0])\\\n",
        "rdd.filter(lambda line: \"info\" in collect_word(line))\\\n",
        "  .filter(lambda line: len(get_IP(line))>1).collect()\n"
      ],
      "metadata": {
        "colab": {
          "base_uri": "https://localhost:8080/"
        },
        "id": "NArIj1mEJgLJ",
        "outputId": "0be76170-6cb1-47d4-8465-e0b53ccae165"
      },
      "execution_count": 11,
      "outputs": [
        {
          "output_type": "execute_result",
          "data": {
            "text/plain": [
              "['03/22 08:51:06 INFO   :...read_physical_netif: index #0, interface VLINK1 has address 129.1.1.1, ifidx 0',\n",
              " '03/22 08:51:06 INFO   :...read_physical_netif: index #1, interface TR1 has address 9.37.65.139, ifidx 1',\n",
              " '03/22 08:51:06 INFO   :...read_physical_netif: index #2, interface LINK11 has address 9.67.100.1, ifidx 2',\n",
              " '03/22 08:51:06 INFO   :...read_physical_netif: index #3, interface LINK12 has address 9.67.101.1, ifidx 3',\n",
              " '03/22 08:51:06 INFO   :...read_physical_netif: index #4, interface CTCD0 has address 9.67.116.98, ifidx 4',\n",
              " '03/22 08:51:06 INFO   :...read_physical_netif: index #5, interface CTCD2 has address 9.67.117.98, ifidx 5',\n",
              " '03/22 08:51:06 INFO   :...read_physical_netif: index #6, interface LOOPBACK has address 127.0.0.1, ifidx 0']"
            ]
          },
          "metadata": {},
          "execution_count": 11
        }
      ]
    },
    {
      "cell_type": "markdown",
      "source": [
        "**Finding ifidx Connections**"
      ],
      "metadata": {
        "id": "aL9v3woNRieH"
      }
    },
    {
      "cell_type": "code",
      "source": [
        "rdd_Failed = rdd.filter(lambda line: \"ifidx\" in collect_word(line))\n",
        "\n",
        "rdd_split = rdd_Failed.map(lambda line: (line.split()[12], 1))\n",
        "\n",
        "rdd_split.groupByKey(4).mapValues(sum).sortBy(lambda x: x[1], ascending=False).take(5)"
      ],
      "metadata": {
        "colab": {
          "base_uri": "https://localhost:8080/"
        },
        "id": "c6K3MwM-TQsx",
        "outputId": "26e9bd6a-3b07-43b9-a0af-a903cf6d9a98"
      },
      "execution_count": 12,
      "outputs": [
        {
          "output_type": "execute_result",
          "data": {
            "text/plain": [
              "[('0', 2), ('4', 1), ('3', 1), ('1', 1), ('2', 1)]"
            ]
          },
          "metadata": {},
          "execution_count": 12
        }
      ]
    },
    {
      "cell_type": "markdown",
      "source": [
        "**Data Collection**"
      ],
      "metadata": {
        "id": "CAPoWAv2tQAa"
      }
    },
    {
      "cell_type": "code",
      "source": [
        "def get_RSVP(line):\n",
        "  return re.compile( '\\w+' ).findall(line.lower())\n",
        "\n",
        "rdd.filter(lambda line: \"for\" in get_RSVP(line))\\\n",
        "  .map(lambda line: line.lower().split('for')[1])\\\n",
        "  .map(lambda line: (line, 1)).groupByKey(4).mapValues(sum)\\\n",
        "  .sortBy(lambda x: x[1], ascending=False).collect()\n"
      ],
      "metadata": {
        "id": "enBWUnJ05RTA",
        "colab": {
          "base_uri": "https://localhost:8080/"
        },
        "outputId": "4612a3cc-7960-4710-90a2-a84be22dd354"
      },
      "execution_count": 29,
      "outputs": [
        {
          "output_type": "execute_result",
          "data": {
            "text/plain": [
              "[(' rsvp', 12),\n",
              " (' rsvp via udp', 6),\n",
              " (' rsvp-udp', 6),\n",
              " (' rsvp allocated and ', 3),\n",
              " (' rsvp allocated and initialized', 3),\n",
              " (' timer', 2)]"
            ]
          },
          "metadata": {},
          "execution_count": 29
        }
      ]
    }
  ],
  "metadata": {
    "colab": {
      "name": "Welcome To Colaboratory",
      "provenance": [],
      "include_colab_link": true
    },
    "kernelspec": {
      "display_name": "Python 3",
      "name": "python3"
    }
  },
  "nbformat": 4,
  "nbformat_minor": 0
}
